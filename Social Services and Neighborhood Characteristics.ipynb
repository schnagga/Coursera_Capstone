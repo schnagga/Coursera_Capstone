{
 "cells": [
  {
   "cell_type": "code",
   "execution_count": null,
   "metadata": {
    "collapsed": true
   },
   "outputs": [],
   "source": [
    "# PROJECT DESCRIPTION\n",
    "\n",
    "# As the county director for social services, I want to determine if there is a correlation between \n",
    "# the dominant characteristics of a neighborhood, in this case defined by ZIP code, and the occurrence of \n",
    "# substantiated child abuse reports. Looking at the top 5 venues, I want to see if there is a relationship \n",
    "# across neighborhoods/ZIP codes and the percentage of reports per capita to properly allocate \n",
    "# county resources and community resources. The county in question is Sacramento, CA. "
   ]
  },
  {
   "cell_type": "code",
   "execution_count": 1,
   "metadata": {},
   "outputs": [],
   "source": [
    "# PROPOSED DATA ELEMENTS\n",
    "\n",
    "# For this study, I will be using aggregate Social Services data from Sacramento, CA. I'll be using the \n",
    "# number of referrals (Child Abuse Reports) by ZIP code for calendar year 2018. This non-PI aggregate \n",
    "# data will be extracted from child welfare data. \n",
    "\n",
    "# I'll also use data available from https://www.california-demographics.com/zip_codes_by_population to \n",
    "# compare the number of referrals to social services to the overall population to get a \n",
    "# per capita density measure. \n",
    "\n",
    "# I'll be using FourSquare to categorize the ZIP code areas by their top 5 venues or features and cross referencing\n",
    "# referral data to above social services incident data to see if the venues or features of a neighborhood are \n",
    "# predictive of the liklihood for social services referrals and to use that data to pro-actively allocate \n",
    "# resources if possible. "
   ]
  },
  {
   "cell_type": "code",
   "execution_count": null,
   "metadata": {},
   "outputs": [],
   "source": []
  }
 ],
 "metadata": {
  "kernelspec": {
   "display_name": "Python 3.5",
   "language": "python",
   "name": "python3"
  },
  "language_info": {
   "codemirror_mode": {
    "name": "ipython",
    "version": 3
   },
   "file_extension": ".py",
   "mimetype": "text/x-python",
   "name": "python",
   "nbconvert_exporter": "python",
   "pygments_lexer": "ipython3",
   "version": "3.5.5"
  }
 },
 "nbformat": 4,
 "nbformat_minor": 1
}
